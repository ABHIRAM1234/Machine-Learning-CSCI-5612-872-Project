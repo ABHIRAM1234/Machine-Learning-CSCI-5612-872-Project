{
 "cells": [
  {
   "cell_type": "code",
   "execution_count": 14,
   "id": "9cc4c03d",
   "metadata": {},
   "outputs": [],
   "source": [
    "import pandas as pd"
   ]
  },
  {
   "cell_type": "code",
   "execution_count": 15,
   "id": "c966c11a",
   "metadata": {},
   "outputs": [
    {
     "name": "stderr",
     "output_type": "stream",
     "text": [
      "C:\\Users\\Olan\\AppData\\Local\\Temp\\ipykernel_30660\\1027712823.py:1: DtypeWarning: Columns (10) have mixed types. Specify dtype option on import or set low_memory=False.\n",
      "  nasa_df=pd.read_csv('../Datasets/wildfire_df.csv')\n"
     ]
    }
   ],
   "source": [
    "nasa_df=pd.read_csv('../Datasets/wildfire_df.csv')"
   ]
  },
  {
   "cell_type": "code",
   "execution_count": 16,
   "id": "3feaa8a0",
   "metadata": {},
   "outputs": [],
   "source": [
    "wildfire_df=nasa_df[(nasa_df['state']=='California') & (nasa_df['acq_date']>'2020-01-01') & (nasa_df['latitude']<=36)].copy()\n",
    "# southern california\n",
    "#                    (nasa_df['latitude']>=32) & (nasa_df['latitude']<=34.5) & \n",
    "#                     (nasa_df['longitude']>=-118) & (nasa_df['longitude']<=-116) "
   ]
  },
  {
   "cell_type": "code",
   "execution_count": 17,
   "id": "f6625d6e",
   "metadata": {},
   "outputs": [],
   "source": [
    "# Dropping rows where same day and same time there were multiple rows\n",
    "wildfire_df.dropna(subset=['acq_time','acq_date'],inplace=True)"
   ]
  },
  {
   "cell_type": "code",
   "execution_count": 18,
   "id": "2af1c89a",
   "metadata": {},
   "outputs": [],
   "source": [
    "# fixing time column  properly\n",
    "wildfire_df['acq_time'] = wildfire_df['acq_time'].astype(str).str.zfill(4)  # Ensure leading zeros for hours < 10\n",
    "wildfire_df['acq_time'] = pd.to_datetime(wildfire_df['acq_time'], format='%H%M').dt.time"
   ]
  },
  {
   "cell_type": "code",
   "execution_count": 19,
   "id": "6a0f0957",
   "metadata": {},
   "outputs": [],
   "source": [
    "wildfire_df['acq_time']= pd.to_datetime(wildfire_df['acq_time'], format='%H:%M:%S')\n",
    "wildfire_df['nearest_hour']=wildfire_df['acq_time'].dt.round('H').dt.time\n",
    "wildfire_df['acq_time']=wildfire_df['acq_time'].dt.time"
   ]
  },
  {
   "cell_type": "code",
   "execution_count": 95,
   "id": "5903632b",
   "metadata": {},
   "outputs": [
    {
     "data": {
      "text/html": [
       "<div>\n",
       "<style scoped>\n",
       "    .dataframe tbody tr th:only-of-type {\n",
       "        vertical-align: middle;\n",
       "    }\n",
       "\n",
       "    .dataframe tbody tr th {\n",
       "        vertical-align: top;\n",
       "    }\n",
       "\n",
       "    .dataframe thead th {\n",
       "        text-align: right;\n",
       "    }\n",
       "</style>\n",
       "<table border=\"1\" class=\"dataframe\">\n",
       "  <thead>\n",
       "    <tr style=\"text-align: right;\">\n",
       "      <th></th>\n",
       "      <th>latitude</th>\n",
       "      <th>longitude</th>\n",
       "      <th>bright_ti4</th>\n",
       "      <th>scan</th>\n",
       "      <th>track</th>\n",
       "      <th>acq_date</th>\n",
       "      <th>acq_time</th>\n",
       "      <th>satellite</th>\n",
       "      <th>instrument</th>\n",
       "      <th>confidence</th>\n",
       "      <th>version</th>\n",
       "      <th>bright_ti5</th>\n",
       "      <th>frp</th>\n",
       "      <th>daynight</th>\n",
       "      <th>type</th>\n",
       "      <th>state</th>\n",
       "      <th>nearest_hour</th>\n",
       "    </tr>\n",
       "  </thead>\n",
       "  <tbody>\n",
       "    <tr>\n",
       "      <th>5276400</th>\n",
       "      <td>33.77762</td>\n",
       "      <td>-118.22819</td>\n",
       "      <td>297.45</td>\n",
       "      <td>0.42</td>\n",
       "      <td>0.61</td>\n",
       "      <td>2020-01-02</td>\n",
       "      <td>08:53:00</td>\n",
       "      <td>N</td>\n",
       "      <td>VIIRS</td>\n",
       "      <td>n</td>\n",
       "      <td>2</td>\n",
       "      <td>283.34</td>\n",
       "      <td>1.14</td>\n",
       "      <td>N</td>\n",
       "      <td>0.0</td>\n",
       "      <td>California</td>\n",
       "      <td>09:00:00</td>\n",
       "    </tr>\n",
       "    <tr>\n",
       "      <th>5276401</th>\n",
       "      <td>33.77818</td>\n",
       "      <td>-118.23756</td>\n",
       "      <td>298.90</td>\n",
       "      <td>0.42</td>\n",
       "      <td>0.61</td>\n",
       "      <td>2020-01-02</td>\n",
       "      <td>08:53:00</td>\n",
       "      <td>N</td>\n",
       "      <td>VIIRS</td>\n",
       "      <td>n</td>\n",
       "      <td>2</td>\n",
       "      <td>285.94</td>\n",
       "      <td>1.01</td>\n",
       "      <td>N</td>\n",
       "      <td>0.0</td>\n",
       "      <td>California</td>\n",
       "      <td>09:00:00</td>\n",
       "    </tr>\n",
       "    <tr>\n",
       "      <th>5276402</th>\n",
       "      <td>33.81285</td>\n",
       "      <td>-118.23906</td>\n",
       "      <td>297.82</td>\n",
       "      <td>0.42</td>\n",
       "      <td>0.61</td>\n",
       "      <td>2020-01-02</td>\n",
       "      <td>08:53:00</td>\n",
       "      <td>N</td>\n",
       "      <td>VIIRS</td>\n",
       "      <td>n</td>\n",
       "      <td>2</td>\n",
       "      <td>285.95</td>\n",
       "      <td>0.99</td>\n",
       "      <td>N</td>\n",
       "      <td>0.0</td>\n",
       "      <td>California</td>\n",
       "      <td>09:00:00</td>\n",
       "    </tr>\n",
       "    <tr>\n",
       "      <th>5276403</th>\n",
       "      <td>33.81887</td>\n",
       "      <td>-118.24325</td>\n",
       "      <td>296.60</td>\n",
       "      <td>0.42</td>\n",
       "      <td>0.61</td>\n",
       "      <td>2020-01-02</td>\n",
       "      <td>08:53:00</td>\n",
       "      <td>N</td>\n",
       "      <td>VIIRS</td>\n",
       "      <td>n</td>\n",
       "      <td>2</td>\n",
       "      <td>285.98</td>\n",
       "      <td>1.08</td>\n",
       "      <td>N</td>\n",
       "      <td>2.0</td>\n",
       "      <td>California</td>\n",
       "      <td>09:00:00</td>\n",
       "    </tr>\n",
       "    <tr>\n",
       "      <th>5276404</th>\n",
       "      <td>33.81951</td>\n",
       "      <td>-118.24489</td>\n",
       "      <td>298.51</td>\n",
       "      <td>0.42</td>\n",
       "      <td>0.61</td>\n",
       "      <td>2020-01-02</td>\n",
       "      <td>08:53:00</td>\n",
       "      <td>N</td>\n",
       "      <td>VIIRS</td>\n",
       "      <td>n</td>\n",
       "      <td>2</td>\n",
       "      <td>286.40</td>\n",
       "      <td>0.92</td>\n",
       "      <td>N</td>\n",
       "      <td>2.0</td>\n",
       "      <td>California</td>\n",
       "      <td>09:00:00</td>\n",
       "    </tr>\n",
       "  </tbody>\n",
       "</table>\n",
       "</div>"
      ],
      "text/plain": [
       "         latitude  longitude  bright_ti4  scan  track    acq_date  acq_time  \\\n",
       "5276400  33.77762 -118.22819      297.45  0.42   0.61  2020-01-02  08:53:00   \n",
       "5276401  33.77818 -118.23756      298.90  0.42   0.61  2020-01-02  08:53:00   \n",
       "5276402  33.81285 -118.23906      297.82  0.42   0.61  2020-01-02  08:53:00   \n",
       "5276403  33.81887 -118.24325      296.60  0.42   0.61  2020-01-02  08:53:00   \n",
       "5276404  33.81951 -118.24489      298.51  0.42   0.61  2020-01-02  08:53:00   \n",
       "\n",
       "        satellite instrument confidence version  bright_ti5   frp daynight  \\\n",
       "5276400         N      VIIRS          n       2      283.34  1.14        N   \n",
       "5276401         N      VIIRS          n       2      285.94  1.01        N   \n",
       "5276402         N      VIIRS          n       2      285.95  0.99        N   \n",
       "5276403         N      VIIRS          n       2      285.98  1.08        N   \n",
       "5276404         N      VIIRS          n       2      286.40  0.92        N   \n",
       "\n",
       "         type       state nearest_hour  \n",
       "5276400   0.0  California     09:00:00  \n",
       "5276401   0.0  California     09:00:00  \n",
       "5276402   0.0  California     09:00:00  \n",
       "5276403   2.0  California     09:00:00  \n",
       "5276404   2.0  California     09:00:00  "
      ]
     },
     "execution_count": 95,
     "metadata": {},
     "output_type": "execute_result"
    }
   ],
   "source": [
    "# wildfire_df.to_csv('../Datasets/filtered_wildfire_df.csv')\n",
    "wildfire_df.head()"
   ]
  },
  {
   "cell_type": "code",
   "execution_count": 21,
   "id": "faccaa48",
   "metadata": {
    "scrolled": true
   },
   "outputs": [],
   "source": [
    "# !pip3 install openmeteo_requests requests_cache retry_requests"
   ]
  },
  {
   "cell_type": "code",
   "execution_count": 22,
   "id": "4d731e12",
   "metadata": {},
   "outputs": [],
   "source": [
    "import openmeteo_requests\n",
    "\n",
    "import requests_cache\n",
    "from retry_requests import retry\n",
    "\n",
    "# Setup the Open-Meteo API client with cache and retry on error\n",
    "cache_session = requests_cache.CachedSession('.cache', expire_after = -1)\n",
    "retry_session = retry(cache_session, retries = 5, backoff_factor = 0.2)\n",
    "openmeteo = openmeteo_requests.Client(session = retry_session)"
   ]
  },
  {
   "cell_type": "code",
   "execution_count": 23,
   "id": "a3205015",
   "metadata": {},
   "outputs": [],
   "source": [
    "url = \"https://archive-api.open-meteo.com/v1/archive\""
   ]
  },
  {
   "cell_type": "code",
   "execution_count": 309,
   "id": "1168b890",
   "metadata": {},
   "outputs": [],
   "source": [
    "test_data=wildfire_df.copy()"
   ]
  },
  {
   "cell_type": "code",
   "execution_count": 301,
   "id": "53a77427",
   "metadata": {},
   "outputs": [],
   "source": [
    "import time"
   ]
  },
  {
   "cell_type": "code",
   "execution_count": 270,
   "id": "e9c5e2b9",
   "metadata": {},
   "outputs": [],
   "source": [
    "# hourly_dataframe = pd.DataFrame()"
   ]
  },
  {
   "cell_type": "code",
   "execution_count": 302,
   "id": "7e760b2b",
   "metadata": {
    "scrolled": true
   },
   "outputs": [
    {
     "name": "stdout",
     "output_type": "stream",
     "text": [
      "30650 rows done!!\n",
      "30700 rows done!!\n",
      "30750 rows done!!\n",
      "30800 rows done!!\n",
      "30850 rows done!!\n",
      "30900 rows done!!\n",
      "30950 rows done!!\n",
      "31000 rows done!!\n"
     ]
    }
   ],
   "source": [
    "count=0\n",
    "for index, row in test_data.iterrows():\n",
    "    if(count%50==0):\n",
    "        print(count,\"rows done!!\")\n",
    "    params = {\n",
    "        \"latitude\": row[\"latitude\"],\n",
    "        \"longitude\": row[\"longitude\"],\n",
    "        \"start_date\": row['acq_date'],\n",
    "        \"end_date\": row['acq_date'],\n",
    "        \"hourly\": [\"temperature_2m\", \"relative_humidity_2m\", \"dew_point_2m\", \"apparent_temperature\", \"precipitation\", \n",
    "                   \"rain\", \"snowfall\", \"snow_depth\", \"weather_code\", \"pressure_msl\", \"surface_pressure\", \"cloud_cover\", \n",
    "                   \"cloud_cover_low\", \"cloud_cover_mid\", \"cloud_cover_high\", \"et0_fao_evapotranspiration\", \n",
    "                   \"vapour_pressure_deficit\", \"wind_speed_10m\", \"wind_speed_100m\", \"wind_direction_10m\", \n",
    "                   \"wind_direction_100m\", \"wind_gusts_10m\", \"soil_temperature_0_to_7cm\", \"soil_temperature_7_to_28cm\", \n",
    "                   \"soil_temperature_28_to_100cm\", \"soil_temperature_100_to_255cm\", \"soil_moisture_0_to_7cm\", \n",
    "                   \"soil_moisture_7_to_28cm\", \"soil_moisture_28_to_100cm\", \"soil_moisture_100_to_255cm\"],\n",
    "        \"timezone\": \"America/Los_Angeles\"\n",
    "    }\n",
    "    responses = openmeteo.weather_api(url, params=params)\n",
    "    response = responses[0]\n",
    "    \n",
    "    # Process hourly data. The order of variables needs to be the same as requested.\n",
    "    hourly = response.Hourly()\n",
    "    hourly_temperature_2m = hourly.Variables(0).ValuesAsNumpy()\n",
    "    hourly_relative_humidity_2m = hourly.Variables(1).ValuesAsNumpy()\n",
    "    hourly_dew_point_2m = hourly.Variables(2).ValuesAsNumpy()\n",
    "    hourly_apparent_temperature = hourly.Variables(3).ValuesAsNumpy()\n",
    "    hourly_precipitation = hourly.Variables(4).ValuesAsNumpy()\n",
    "    hourly_rain = hourly.Variables(5).ValuesAsNumpy()\n",
    "    hourly_snowfall = hourly.Variables(6).ValuesAsNumpy()\n",
    "    hourly_snow_depth = hourly.Variables(7).ValuesAsNumpy()\n",
    "    hourly_weather_code = hourly.Variables(8).ValuesAsNumpy()\n",
    "    hourly_pressure_msl = hourly.Variables(9).ValuesAsNumpy()\n",
    "    hourly_surface_pressure = hourly.Variables(10).ValuesAsNumpy()\n",
    "    hourly_cloud_cover = hourly.Variables(11).ValuesAsNumpy()\n",
    "    hourly_cloud_cover_low = hourly.Variables(12).ValuesAsNumpy()\n",
    "    hourly_cloud_cover_mid = hourly.Variables(13).ValuesAsNumpy()\n",
    "    hourly_cloud_cover_high = hourly.Variables(14).ValuesAsNumpy()\n",
    "    hourly_et0_fao_evapotranspiration = hourly.Variables(15).ValuesAsNumpy()\n",
    "    hourly_vapour_pressure_deficit = hourly.Variables(16).ValuesAsNumpy()\n",
    "    hourly_wind_speed_10m = hourly.Variables(17).ValuesAsNumpy()\n",
    "    hourly_wind_speed_100m = hourly.Variables(18).ValuesAsNumpy()\n",
    "    hourly_wind_direction_10m = hourly.Variables(19).ValuesAsNumpy()\n",
    "    hourly_wind_direction_100m = hourly.Variables(20).ValuesAsNumpy()\n",
    "    hourly_wind_gusts_10m = hourly.Variables(21).ValuesAsNumpy()\n",
    "    hourly_soil_temperature_0_to_7cm = hourly.Variables(22).ValuesAsNumpy()\n",
    "    hourly_soil_temperature_7_to_28cm = hourly.Variables(23).ValuesAsNumpy()\n",
    "    hourly_soil_temperature_28_to_100cm = hourly.Variables(24).ValuesAsNumpy()\n",
    "    hourly_soil_temperature_100_to_255cm = hourly.Variables(25).ValuesAsNumpy()\n",
    "    hourly_soil_moisture_0_to_7cm = hourly.Variables(26).ValuesAsNumpy()\n",
    "    hourly_soil_moisture_7_to_28cm = hourly.Variables(27).ValuesAsNumpy()\n",
    "    hourly_soil_moisture_28_to_100cm = hourly.Variables(28).ValuesAsNumpy()\n",
    "    hourly_soil_moisture_100_to_255cm = hourly.Variables(29).ValuesAsNumpy()\n",
    "    \n",
    "    hourly_data = {\"date\": pd.date_range(\n",
    "        start = pd.to_datetime(hourly.Time(), unit = \"s\", utc = True),\n",
    "        end = pd.to_datetime(hourly.TimeEnd(), unit = \"s\", utc = True),\n",
    "        freq = pd.Timedelta(seconds = hourly.Interval()),\n",
    "        inclusive = \"left\"\n",
    "    )}\n",
    "    hourly_data[\"latitude\"] = row[\"latitude\"]\n",
    "    hourly_data[\"longitude\"] = row[\"longitude\"]\n",
    "    hourly_data[\"temperature_2m\"] = hourly_temperature_2m\n",
    "    hourly_data[\"relative_humidity_2m\"] = hourly_relative_humidity_2m\n",
    "    hourly_data[\"dew_point_2m\"] = hourly_dew_point_2m\n",
    "    hourly_data[\"apparent_temperature\"] = hourly_apparent_temperature\n",
    "    hourly_data[\"precipitation\"] = hourly_precipitation\n",
    "    hourly_data[\"rain\"] = hourly_rain\n",
    "    hourly_data[\"snowfall\"] = hourly_snowfall\n",
    "    hourly_data[\"snow_depth\"] = hourly_snow_depth\n",
    "    hourly_data[\"weather_code\"] = hourly_weather_code\n",
    "    hourly_data[\"pressure_msl\"] = hourly_pressure_msl\n",
    "    hourly_data[\"surface_pressure\"] = hourly_surface_pressure\n",
    "    hourly_data[\"cloud_cover\"] = hourly_cloud_cover\n",
    "    hourly_data[\"cloud_cover_low\"] = hourly_cloud_cover_low\n",
    "    hourly_data[\"cloud_cover_mid\"] = hourly_cloud_cover_mid\n",
    "    hourly_data[\"cloud_cover_high\"] = hourly_cloud_cover_high\n",
    "    hourly_data[\"et0_fao_evapotranspiration\"] = hourly_et0_fao_evapotranspiration\n",
    "    hourly_data[\"vapour_pressure_deficit\"] = hourly_vapour_pressure_deficit\n",
    "    hourly_data[\"wind_speed_10m\"] = hourly_wind_speed_10m\n",
    "    hourly_data[\"wind_speed_100m\"] = hourly_wind_speed_100m\n",
    "    hourly_data[\"wind_direction_10m\"] = hourly_wind_direction_10m\n",
    "    hourly_data[\"wind_direction_100m\"] = hourly_wind_direction_100m\n",
    "    hourly_data[\"wind_gusts_10m\"] = hourly_wind_gusts_10m\n",
    "    hourly_data[\"soil_temperature_0_to_7cm\"] = hourly_soil_temperature_0_to_7cm\n",
    "    hourly_data[\"soil_temperature_7_to_28cm\"] = hourly_soil_temperature_7_to_28cm\n",
    "    hourly_data[\"soil_temperature_28_to_100cm\"] = hourly_soil_temperature_28_to_100cm\n",
    "    hourly_data[\"soil_temperature_100_to_255cm\"] = hourly_soil_temperature_100_to_255cm\n",
    "    hourly_data[\"soil_moisture_0_to_7cm\"] = hourly_soil_moisture_0_to_7cm\n",
    "    hourly_data[\"soil_moisture_7_to_28cm\"] = hourly_soil_moisture_7_to_28cm\n",
    "    hourly_data[\"soil_moisture_28_to_100cm\"] = hourly_soil_moisture_28_to_100cm\n",
    "    hourly_data[\"soil_moisture_100_to_255cm\"] = hourly_soil_moisture_100_to_255cm\n",
    "    hourly_dataframe=pd.concat([hourly_dataframe,pd.DataFrame(data = hourly_data)]) \n",
    "    time.sleep(1)\n",
    "    count+=1"
   ]
  },
  {
   "cell_type": "code",
   "execution_count": 304,
   "id": "07d11a35",
   "metadata": {},
   "outputs": [],
   "source": [
    "hourly_dataframe.to_csv('../Datasets/hourly_dataframe.csv',index=False)"
   ]
  },
  {
   "cell_type": "code",
   "execution_count": 307,
   "id": "5b459585",
   "metadata": {},
   "outputs": [],
   "source": [
    "# hourly_weather_df=pd.read_csv('../Datasets/hourly_dataframe.csv')"
   ]
  },
  {
   "cell_type": "code",
   "execution_count": null,
   "id": "c78ddc7d",
   "metadata": {},
   "outputs": [],
   "source": []
  }
 ],
 "metadata": {
  "kernelspec": {
   "display_name": "ml_env",
   "language": "python",
   "name": "ml_env"
  },
  "language_info": {
   "codemirror_mode": {
    "name": "ipython",
    "version": 3
   },
   "file_extension": ".py",
   "mimetype": "text/x-python",
   "name": "python",
   "nbconvert_exporter": "python",
   "pygments_lexer": "ipython3",
   "version": "3.10.11"
  }
 },
 "nbformat": 4,
 "nbformat_minor": 5
}
